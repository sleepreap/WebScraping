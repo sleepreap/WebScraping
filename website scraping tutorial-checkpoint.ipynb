{
 "cells": [
  {
   "cell_type": "markdown",
   "id": "613315fc",
   "metadata": {},
   "source": [
    "# Website scraping that requires login"
   ]
  },
  {
   "cell_type": "markdown",
   "id": "259c2225",
   "metadata": {},
   "source": [
    "This is on web scrapping of https://www.campbells.com.au/convenience which requires login details.\n",
    "It uses selenium for web automation and beautifulSoup for getting html elements.\n",
    "Data from foodservice catagory are extracted and then converted to data frame for better data handling. "
   ]
  },
  {
   "cell_type": "markdown",
   "id": "521b4ede",
   "metadata": {},
   "source": [
    "# Import Functions"
   ]
  },
  {
   "cell_type": "code",
   "execution_count": 31,
   "id": "f866cec1",
   "metadata": {},
   "outputs": [],
   "source": [
    "from selenium import webdriver\n",
    "from selenium.webdriver.common.keys import Keys\n",
    "from selenium.webdriver.common.by import By\n",
    "from webdriver_manager.chrome import ChromeDriverManager\n",
    "import time\n",
    "from bs4 import BeautifulSoup"
   ]
  },
  {
   "cell_type": "markdown",
   "id": "ffb567e4",
   "metadata": {},
   "source": [
    "# Function to login into website"
   ]
  },
  {
   "cell_type": "code",
   "execution_count": 32,
   "id": "a03a560e",
   "metadata": {},
   "outputs": [],
   "source": [
    "def login():\n",
    "    url = \"https://www.campbells.com.au/convenience/\"\n",
    "    username = '0032353419'\n",
    "    password= 'Australia@1'\n",
    "    driver.get(url)\n",
    "    time.sleep(3)\n",
    "    driver.find_element(By.ID, \"loginLink\").click()\n",
    "    time.sleep(3)\n",
    "    driver.find_element(By.ID, \"j_username\").send_keys(username)\n",
    "    driver.find_element(By.ID, \"j_password\").send_keys(password)\n",
    "    driver.find_element(By.ID, \"loginButton\").click()"
   ]
  },
  {
   "cell_type": "markdown",
   "id": "8fbb55d2",
   "metadata": {},
   "source": [
    "# Function to webscrape"
   ]
  },
  {
   "cell_type": "code",
   "execution_count": 50,
   "id": "ff7e6cc9",
   "metadata": {},
   "outputs": [],
   "source": [
    "def process_products(html):\n",
    "    clean_product_list=[]\n",
    "    soup= BeautifulSoup(html,'html.parser')\n",
    "    products= soup.find_all(\"div\",{\"class\":\"productListItemLeft\"})\n",
    "    \n",
    "    for product in products:\n",
    "        data_dict={}\n",
    "        block_a =product.find(\"div\",{\"class\":\"blockA\"})\n",
    "        block_b= product.find(\"div\",{\"class\":\"blockB\"})\n",
    "        block_c= product.find(\"div\",{\"class\":\"blockC\"})\n",
    "\n",
    "        per_case_price= product.find(\"div\",{\"class\":\"perCasePrice\"})\n",
    "        per_unit_price= product.find(\"div\",{\"class\":\"perUnitPrice\"})\n",
    "\n",
    "        data_dict['product_url'] = block_a.find('a')['href']\n",
    "        data_dict['product_brand'] = block_a.find(\"div\",{\"class\":\"brand\"}).text.strip()\n",
    "        data_dict['product_name'] = block_a.find(\"div\",{\"class\":\"name\"}).text.strip()\n",
    "        data_dict['product_code'] = block_a.find(\"div\",{\"class\":\"identifiercode\"}).text.strip()\n",
    "\n",
    "        data_dict['product_price_per_case'] =  per_case_price.find(\"div\",{\"class\":\"productUnitPrice\"}).text.strip()\n",
    "        data_dict['product_case_pack_size'] =  per_case_price.find(\"div\",{\"class\":\"packsize\"}).text.strip()\n",
    "\n",
    "        try:\n",
    "            #product=products[0]\n",
    "            #block_a =product.find(\"div\",{\"class\":\"blockA\"})\n",
    "            block_a.find(\"div\",{\"class\":\"stock outofStock\"}).text.strip()\n",
    "            data_dict['product_stock'] = block_a.find(\"div\",{\"class\":\"stock outofStock\"}).text.strip()\n",
    "        except:\n",
    "            data_dict['product_stock']= \"in stock \"\n",
    "        clean_product_list.append(data_dict)\n",
    "        \n",
    "    return clean_product_list"
   ]
  },
  {
   "cell_type": "markdown",
   "id": "a96864ef",
   "metadata": {},
   "source": [
    "### Launch Chrome and login"
   ]
  },
  {
   "cell_type": "code",
   "execution_count": 51,
   "id": "29ef01c5",
   "metadata": {},
   "outputs": [
    {
     "name": "stderr",
     "output_type": "stream",
     "text": [
      "C:\\Users\\royce\\AppData\\Local\\Temp/ipykernel_29568/1162084521.py:1: DeprecationWarning: executable_path has been deprecated, please pass in a Service object\n",
      "  driver = webdriver.Chrome(ChromeDriverManager().install())\n"
     ]
    }
   ],
   "source": [
    "driver = webdriver.Chrome(ChromeDriverManager().install())\n",
    "login()"
   ]
  },
  {
   "cell_type": "markdown",
   "id": "fbcc5ea6",
   "metadata": {},
   "source": [
    "### Scrape the first 3 pages of items from Food Service Category. This will generate 300 items as each page is configured to have 100 items."
   ]
  },
  {
   "cell_type": "code",
   "execution_count": 60,
   "id": "1a033d50",
   "metadata": {},
   "outputs": [],
   "source": [
    "master_list= []\n",
    "for i in range (3):\n",
    "    driver.get(f'https://www.campbells.com.au/convenience/foodservice?q=%3Arelevance&page={i}')\n",
    "    html = driver.page_source\n",
    "    clean_product_data=process_products(html)\n",
    "    master_list.extend(clean_product_data)"
   ]
  },
  {
   "cell_type": "markdown",
   "id": "adf9427a",
   "metadata": {},
   "source": [
    "### After compiling all the items into a list, the list is converted into a DataFrame for easier future data handling."
   ]
  },
  {
   "cell_type": "code",
   "execution_count": 57,
   "id": "5aece9db",
   "metadata": {},
   "outputs": [],
   "source": [
    "import pandas as pd\n",
    "df=pd.DataFrame(master_list)"
   ]
  },
  {
   "cell_type": "code",
   "execution_count": 58,
   "id": "31676f84",
   "metadata": {},
   "outputs": [
    {
     "data": {
      "text/html": [
       "<div>\n",
       "<style scoped>\n",
       "    .dataframe tbody tr th:only-of-type {\n",
       "        vertical-align: middle;\n",
       "    }\n",
       "\n",
       "    .dataframe tbody tr th {\n",
       "        vertical-align: top;\n",
       "    }\n",
       "\n",
       "    .dataframe thead th {\n",
       "        text-align: right;\n",
       "    }\n",
       "</style>\n",
       "<table border=\"1\" class=\"dataframe\">\n",
       "  <thead>\n",
       "    <tr style=\"text-align: right;\">\n",
       "      <th></th>\n",
       "      <th>product_url</th>\n",
       "      <th>product_brand</th>\n",
       "      <th>product_name</th>\n",
       "      <th>product_code</th>\n",
       "      <th>product_price_per_case</th>\n",
       "      <th>product_case_pack_size</th>\n",
       "      <th>product_stock</th>\n",
       "    </tr>\n",
       "  </thead>\n",
       "  <tbody>\n",
       "    <tr>\n",
       "      <th>0</th>\n",
       "      <td>/convenience/foodservice/pantry/biscuits-&amp;-cra...</td>\n",
       "      <td>gumnut</td>\n",
       "      <td>BISCUITS ASSORTED PORTIONS 100S</td>\n",
       "      <td>0000998910</td>\n",
       "      <td>$21.14*</td>\n",
       "      <td>carton of 1</td>\n",
       "      <td>out of stock</td>\n",
       "    </tr>\n",
       "    <tr>\n",
       "      <th>1</th>\n",
       "      <td>/convenience/frozen-food/party-foods/finger-fo...</td>\n",
       "      <td>magdala</td>\n",
       "      <td>CHEESE BACON POTATO CAKES 24S</td>\n",
       "      <td>0000995580</td>\n",
       "      <td>$49.53</td>\n",
       "      <td>carton of 1</td>\n",
       "      <td>out of stock</td>\n",
       "    </tr>\n",
       "    <tr>\n",
       "      <th>2</th>\n",
       "      <td>/convenience/foodservice/frozen-food/fish-&amp;-se...</td>\n",
       "      <td>seven seas</td>\n",
       "      <td>MARINARA MIX 1KG</td>\n",
       "      <td>0000995242</td>\n",
       "      <td>$118.92</td>\n",
       "      <td>carton of 10</td>\n",
       "      <td>in stock</td>\n",
       "    </tr>\n",
       "    <tr>\n",
       "      <th>3</th>\n",
       "      <td>/convenience/frozen-food/party-foods/finger-fo...</td>\n",
       "      <td>sol's</td>\n",
       "      <td>LARGE POTATO SCALLOP 120S</td>\n",
       "      <td>0000993339</td>\n",
       "      <td>$51.15</td>\n",
       "      <td>carton of 1</td>\n",
       "      <td>out of stock</td>\n",
       "    </tr>\n",
       "    <tr>\n",
       "      <th>4</th>\n",
       "      <td>/convenience/frozen-food/party-foods/finger-fo...</td>\n",
       "      <td>hakka</td>\n",
       "      <td>VEGETABLE SPRING ROLLS MEDIUM 36X50GM</td>\n",
       "      <td>0000993088</td>\n",
       "      <td>$128.37</td>\n",
       "      <td>carton of 8</td>\n",
       "      <td>in stock</td>\n",
       "    </tr>\n",
       "    <tr>\n",
       "      <th>...</th>\n",
       "      <td>...</td>\n",
       "      <td>...</td>\n",
       "      <td>...</td>\n",
       "      <td>...</td>\n",
       "      <td>...</td>\n",
       "      <td>...</td>\n",
       "      <td>...</td>\n",
       "    </tr>\n",
       "    <tr>\n",
       "      <th>295</th>\n",
       "      <td>/convenience/foodservice/pantry/tea-&amp;-coffee/s...</td>\n",
       "      <td>moccona</td>\n",
       "      <td>SMOOTH COFFEE GRANULATED 500GM</td>\n",
       "      <td>0000694744</td>\n",
       "      <td>$134.02</td>\n",
       "      <td>carton of 6</td>\n",
       "      <td>in stock</td>\n",
       "    </tr>\n",
       "    <tr>\n",
       "      <th>296</th>\n",
       "      <td>/convenience/general-merchandise/cleaning-need...</td>\n",
       "      <td>cast away</td>\n",
       "      <td>GARBAGE BAGS HEAVY DUTY EASY-PICK BLACK 72-8L ...</td>\n",
       "      <td>0000693895</td>\n",
       "      <td>$55.07*</td>\n",
       "      <td>carton of 1</td>\n",
       "      <td>out of stock</td>\n",
       "    </tr>\n",
       "    <tr>\n",
       "      <th>297</th>\n",
       "      <td>/convenience/foodservice/general-merchandise/p...</td>\n",
       "      <td>cast away</td>\n",
       "      <td>PAPER FOOD TRAY KRAFT MEDIUM 125S</td>\n",
       "      <td>0000692085</td>\n",
       "      <td>$93.40*</td>\n",
       "      <td>carton of 4</td>\n",
       "      <td>in stock</td>\n",
       "    </tr>\n",
       "    <tr>\n",
       "      <th>298</th>\n",
       "      <td>/convenience/foodservice/general-merchandise/p...</td>\n",
       "      <td>cast away</td>\n",
       "      <td>PAPER FOOD TRAY SMALL 125S</td>\n",
       "      <td>0000692077</td>\n",
       "      <td>$68.30*</td>\n",
       "      <td>carton of 4</td>\n",
       "      <td>in stock</td>\n",
       "    </tr>\n",
       "    <tr>\n",
       "      <th>299</th>\n",
       "      <td>/convenience/foodservice/general-merchandise/p...</td>\n",
       "      <td>cast away</td>\n",
       "      <td>HOT DOG TRAY BROWN KRAFT 50S</td>\n",
       "      <td>0000692035</td>\n",
       "      <td>$55.97*</td>\n",
       "      <td>carton of 5</td>\n",
       "      <td>in stock</td>\n",
       "    </tr>\n",
       "  </tbody>\n",
       "</table>\n",
       "<p>300 rows × 7 columns</p>\n",
       "</div>"
      ],
      "text/plain": [
       "                                           product_url product_brand  \\\n",
       "0    /convenience/foodservice/pantry/biscuits-&-cra...        gumnut   \n",
       "1    /convenience/frozen-food/party-foods/finger-fo...       magdala   \n",
       "2    /convenience/foodservice/frozen-food/fish-&-se...    seven seas   \n",
       "3    /convenience/frozen-food/party-foods/finger-fo...         sol's   \n",
       "4    /convenience/frozen-food/party-foods/finger-fo...         hakka   \n",
       "..                                                 ...           ...   \n",
       "295  /convenience/foodservice/pantry/tea-&-coffee/s...       moccona   \n",
       "296  /convenience/general-merchandise/cleaning-need...     cast away   \n",
       "297  /convenience/foodservice/general-merchandise/p...     cast away   \n",
       "298  /convenience/foodservice/general-merchandise/p...     cast away   \n",
       "299  /convenience/foodservice/general-merchandise/p...     cast away   \n",
       "\n",
       "                                          product_name product_code  \\\n",
       "0                      BISCUITS ASSORTED PORTIONS 100S   0000998910   \n",
       "1                        CHEESE BACON POTATO CAKES 24S   0000995580   \n",
       "2                                     MARINARA MIX 1KG   0000995242   \n",
       "3                            LARGE POTATO SCALLOP 120S   0000993339   \n",
       "4                VEGETABLE SPRING ROLLS MEDIUM 36X50GM   0000993088   \n",
       "..                                                 ...          ...   \n",
       "295                     SMOOTH COFFEE GRANULATED 500GM   0000694744   \n",
       "296  GARBAGE BAGS HEAVY DUTY EASY-PICK BLACK 72-8L ...   0000693895   \n",
       "297                  PAPER FOOD TRAY KRAFT MEDIUM 125S   0000692085   \n",
       "298                         PAPER FOOD TRAY SMALL 125S   0000692077   \n",
       "299                       HOT DOG TRAY BROWN KRAFT 50S   0000692035   \n",
       "\n",
       "    product_price_per_case product_case_pack_size product_stock  \n",
       "0                  $21.14*            carton of 1  out of stock  \n",
       "1                   $49.53            carton of 1  out of stock  \n",
       "2                  $118.92           carton of 10     in stock   \n",
       "3                   $51.15            carton of 1  out of stock  \n",
       "4                  $128.37            carton of 8     in stock   \n",
       "..                     ...                    ...           ...  \n",
       "295                $134.02            carton of 6     in stock   \n",
       "296                $55.07*            carton of 1  out of stock  \n",
       "297                $93.40*            carton of 4     in stock   \n",
       "298                $68.30*            carton of 4     in stock   \n",
       "299                $55.97*            carton of 5     in stock   \n",
       "\n",
       "[300 rows x 7 columns]"
      ]
     },
     "execution_count": 58,
     "metadata": {},
     "output_type": "execute_result"
    }
   ],
   "source": [
    "df"
   ]
  },
  {
   "cell_type": "code",
   "execution_count": null,
   "id": "de26a44d",
   "metadata": {},
   "outputs": [],
   "source": []
  }
 ],
 "metadata": {
  "kernelspec": {
   "display_name": "Python 3 (ipykernel)",
   "language": "python",
   "name": "python3"
  },
  "language_info": {
   "codemirror_mode": {
    "name": "ipython",
    "version": 3
   },
   "file_extension": ".py",
   "mimetype": "text/x-python",
   "name": "python",
   "nbconvert_exporter": "python",
   "pygments_lexer": "ipython3",
   "version": "3.9.7"
  }
 },
 "nbformat": 4,
 "nbformat_minor": 5
}
